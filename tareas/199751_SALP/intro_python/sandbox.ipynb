{
 "cells": [
  {
   "cell_type": "markdown",
   "metadata": {},
   "source": [
    "# App y __name__"
   ]
  },
  {
   "cell_type": "code",
   "execution_count": 1,
   "metadata": {},
   "outputs": [],
   "source": [
    "import app"
   ]
  },
  {
   "cell_type": "code",
   "execution_count": 2,
   "metadata": {},
   "outputs": [
    {
     "data": {
      "text/plain": [
       "<function app.hello_world()>"
      ]
     },
     "execution_count": 2,
     "metadata": {},
     "output_type": "execute_result"
    }
   ],
   "source": [
    "app.hello_world"
   ]
  },
  {
   "cell_type": "code",
   "execution_count": 3,
   "metadata": {},
   "outputs": [
    {
     "name": "stdout",
     "output_type": "stream",
     "text": [
      "Hello World\n",
      "La variable __name__ tien el valor de app\n"
     ]
    }
   ],
   "source": [
    "app.hello_world()"
   ]
  },
  {
   "cell_type": "code",
   "execution_count": 4,
   "metadata": {},
   "outputs": [
    {
     "data": {
      "text/plain": [
       "'app'"
      ]
     },
     "execution_count": 4,
     "metadata": {},
     "output_type": "execute_result"
    }
   ],
   "source": [
    "app.__name__"
   ]
  },
  {
   "cell_type": "markdown",
   "metadata": {},
   "source": [
    "Si modificas el app.py las modificaciones no se veran reflejadas en este notebook hasta que reinicies el kernel/env (o utilices librerias especializadas). Incluso si vuelves a ejecutar la casilla de importar `import app`. Esto se debe a que python no vuelve importar el modulo si ya lo tiene importado (no revisa diferencias o cambios).  \n",
    "Sin embargo si el `import` fallo por alguna razon, y realizas la modificacion para que funcine si puedes importar esa nueva version, pues jamas fue importada por el error."
   ]
  },
  {
   "cell_type": "markdown",
   "metadata": {},
   "source": [
    "Si desean ver las modificaciones que realizaron a otros scripts sin recargar el kernel pueden usar `importlib`"
   ]
  },
  {
   "cell_type": "code",
   "execution_count": 5,
   "metadata": {},
   "outputs": [
    {
     "data": {
      "text/plain": [
       "<module 'app' from '/home/sergiopereo/ITAM/fdd/fdd_o23/tareas/199751_SALP/intro_python/app.py'>"
      ]
     },
     "execution_count": 5,
     "metadata": {},
     "output_type": "execute_result"
    }
   ],
   "source": [
    "import importlib\n",
    "importlib.reload(app)"
   ]
  },
  {
   "cell_type": "markdown",
   "metadata": {},
   "source": [
    "# OS"
   ]
  },
  {
   "cell_type": "code",
   "execution_count": 6,
   "metadata": {},
   "outputs": [],
   "source": [
    "import os"
   ]
  },
  {
   "cell_type": "markdown",
   "metadata": {},
   "source": [
    "Obtener el directorio de trabajo actual:"
   ]
  },
  {
   "cell_type": "code",
   "execution_count": 7,
   "metadata": {},
   "outputs": [
    {
     "name": "stdout",
     "output_type": "stream",
     "text": [
      "/home/sergiopereo/ITAM/fdd/fdd_o23/tareas/199751_SALP/intro_python\n"
     ]
    }
   ],
   "source": [
    "current_directory = os.getcwd()\n",
    "print(current_directory)"
   ]
  },
  {
   "cell_type": "markdown",
   "metadata": {},
   "source": [
    "Listar archivos y directorios en el directorio actual:"
   ]
  },
  {
   "cell_type": "code",
   "execution_count": 8,
   "metadata": {},
   "outputs": [
    {
     "name": "stdout",
     "output_type": "stream",
     "text": [
      "app.py\n",
      "mi_archivo.txt\n",
      "__pycache__\n",
      "requirements.txt\n",
      "sandbox.ipynb\n",
      "tarea.ipynb\n",
      "carpeta_vacia\n"
     ]
    }
   ],
   "source": [
    "for filename in os.listdir('.'):\n",
    "    print(filename)"
   ]
  },
  {
   "cell_type": "markdown",
   "metadata": {},
   "source": [
    "Verificar si una ruta es un archivo o un directorio:"
   ]
  },
  {
   "cell_type": "code",
   "execution_count": 9,
   "metadata": {},
   "outputs": [
    {
     "name": "stdout",
     "output_type": "stream",
     "text": [
      "app.py It is a file!\n",
      "mi_archivo.txt It is a file!\n",
      "__pycache__ It is a directory!\n",
      "requirements.txt It is a file!\n",
      "sandbox.ipynb It is a file!\n",
      "tarea.ipynb It is a file!\n",
      "carpeta_vacia It is a directory!\n"
     ]
    }
   ],
   "source": [
    "for f in os.listdir('.'):\n",
    "    if os.path.isfile(f):\n",
    "        print(f'{f} It is a file!')\n",
    "    elif os.path.isdir(f):\n",
    "        print(f'{f} It is a directory!')"
   ]
  },
  {
   "cell_type": "markdown",
   "metadata": {},
   "source": [
    "Join dos paths"
   ]
  },
  {
   "cell_type": "code",
   "execution_count": 10,
   "metadata": {},
   "outputs": [
    {
     "name": "stdout",
     "output_type": "stream",
     "text": [
      "carpeta_vacia/.gitkeep\n"
     ]
    },
    {
     "data": {
      "text/plain": [
       "True"
      ]
     },
     "execution_count": 10,
     "metadata": {},
     "output_type": "execute_result"
    }
   ],
   "source": [
    "f = os.path.join('carpeta_vacia','.gitkeep')\n",
    "print(f)\n",
    "os.path.isfile(f)"
   ]
  },
  {
   "cell_type": "markdown",
   "metadata": {},
   "source": [
    "Obtener el path absoluto a un folder o un file con join"
   ]
  },
  {
   "cell_type": "code",
   "execution_count": 11,
   "metadata": {},
   "outputs": [
    {
     "data": {
      "text/plain": [
       "['/home/sergiopereo/ITAM/fdd/fdd_o23/tareas/199751_SALP/intro_python/app.py',\n",
       " '/home/sergiopereo/ITAM/fdd/fdd_o23/tareas/199751_SALP/intro_python/mi_archivo.txt',\n",
       " '/home/sergiopereo/ITAM/fdd/fdd_o23/tareas/199751_SALP/intro_python/__pycache__',\n",
       " '/home/sergiopereo/ITAM/fdd/fdd_o23/tareas/199751_SALP/intro_python/requirements.txt',\n",
       " '/home/sergiopereo/ITAM/fdd/fdd_o23/tareas/199751_SALP/intro_python/sandbox.ipynb',\n",
       " '/home/sergiopereo/ITAM/fdd/fdd_o23/tareas/199751_SALP/intro_python/tarea.ipynb',\n",
       " '/home/sergiopereo/ITAM/fdd/fdd_o23/tareas/199751_SALP/intro_python/carpeta_vacia']"
      ]
     },
     "execution_count": 11,
     "metadata": {},
     "output_type": "execute_result"
    }
   ],
   "source": [
    "[os.path.join(os.getcwd(),f) for f in os.listdir('.')]"
   ]
  },
  {
   "cell_type": "markdown",
   "metadata": {},
   "source": [
    "Ejercicio obtener paths absolutos a los files (no directorios) usando listas comprensica `[i for i in ...]` con las funciones que hemos visto"
   ]
  },
  {
   "cell_type": "code",
   "execution_count": 12,
   "metadata": {},
   "outputs": [
    {
     "data": {
      "text/plain": [
       "['/home/sergiopereo/ITAM/fdd/fdd_o23/tareas/199751_SALP/intro_python/app.py',\n",
       " '/home/sergiopereo/ITAM/fdd/fdd_o23/tareas/199751_SALP/intro_python/mi_archivo.txt',\n",
       " '/home/sergiopereo/ITAM/fdd/fdd_o23/tareas/199751_SALP/intro_python/requirements.txt',\n",
       " '/home/sergiopereo/ITAM/fdd/fdd_o23/tareas/199751_SALP/intro_python/sandbox.ipynb',\n",
       " '/home/sergiopereo/ITAM/fdd/fdd_o23/tareas/199751_SALP/intro_python/tarea.ipynb']"
      ]
     },
     "execution_count": 12,
     "metadata": {},
     "output_type": "execute_result"
    }
   ],
   "source": [
    "[os.path.join(os.getcwd(),f) for f in os.listdir('.') if os.path.isfile(f)]"
   ]
  },
  {
   "cell_type": "markdown",
   "metadata": {},
   "source": [
    "Crear directorios"
   ]
  },
  {
   "cell_type": "code",
   "execution_count": 13,
   "metadata": {},
   "outputs": [],
   "source": [
    "os.makedirs('empty_dir', exist_ok=True) # exists_ok=False regresara error si el folder existe"
   ]
  },
  {
   "cell_type": "markdown",
   "metadata": {},
   "source": [
    "Obtener variables de entorno:"
   ]
  },
  {
   "cell_type": "code",
   "execution_count": 17,
   "metadata": {},
   "outputs": [
    {
     "name": "stdout",
     "output_type": "stream",
     "text": [
      "uumami\n"
     ]
    }
   ],
   "source": [
    "path_variable = os.environ.get('USER')\n",
    "print(path_variable)\n"
   ]
  },
  {
   "cell_type": "markdown",
   "metadata": {},
   "source": [
    "Dividir la ruta de un archivo en la ruta y el nombre del archivo:"
   ]
  },
  {
   "cell_type": "code",
   "execution_count": 18,
   "metadata": {},
   "outputs": [
    {
     "name": "stdout",
     "output_type": "stream",
     "text": [
      "/path/to\n",
      "file.txt\n"
     ]
    }
   ],
   "source": [
    "directory, filename = os.path.split('/path/to/file.txt')\n",
    "print(directory)  # Output: '/path/to'\n",
    "print(filename)   # Output: 'file.txt'"
   ]
  },
  {
   "cell_type": "markdown",
   "metadata": {},
   "source": [
    "Obtener el nombre del archivo"
   ]
  },
  {
   "cell_type": "code",
   "execution_count": 19,
   "metadata": {},
   "outputs": [
    {
     "data": {
      "text/plain": [
       "'file.txt'"
      ]
     },
     "execution_count": 19,
     "metadata": {},
     "output_type": "execute_result"
    }
   ],
   "source": [
    "os.path.basename('/path/to/file.txt')"
   ]
  },
  {
   "cell_type": "markdown",
   "metadata": {},
   "source": [
    "Verificar si una ruta específica existe:"
   ]
  },
  {
   "cell_type": "code",
   "execution_count": 23,
   "metadata": {},
   "outputs": [
    {
     "name": "stdout",
     "output_type": "stream",
     "text": [
      "It exists!\n"
     ]
    }
   ],
   "source": [
    "if os.path.exists('carpeta_vacia/.gitkeep'):\n",
    "    print('It exists!')"
   ]
  },
  {
   "cell_type": "markdown",
   "metadata": {},
   "source": [
    "# Funciones"
   ]
  },
  {
   "cell_type": "markdown",
   "metadata": {},
   "source": [
    "Para definir una funcion en python utilizamos el keyword `def` seguido de `espacio`, `nombre de la funcion`, espacio y los `argumentos` que va a recibir entre parentesis."
   ]
  },
  {
   "cell_type": "code",
   "execution_count": 68,
   "metadata": {},
   "outputs": [
    {
     "data": {
      "text/plain": [
       "10"
      ]
     },
     "execution_count": 68,
     "metadata": {},
     "output_type": "execute_result"
    }
   ],
   "source": [
    "def suma(a,b):\n",
    "    return a + b\n",
    "\n",
    "suma(2, 8)"
   ]
  },
  {
   "cell_type": "markdown",
   "metadata": {},
   "source": [
    "    *args recopila argumentos posicionales adicionales en una tupla.\n",
    "    **kwargs recopila argumentos por palabra clave adicionales en un diccionario.\n",
    "\n",
    "Ambos son extremadamente útiles para funciones o métodos donde esperas que el número de argumentos varíe o para crear funciones/métodos más flexibles. También son comunes en decoradores y al extender métodos de clases en herencia para asegurarse de que los argumentos pasados al método original o al método de la clase padre se mantengan intactos."
   ]
  },
  {
   "cell_type": "markdown",
   "metadata": {},
   "source": [
    "## `*args`"
   ]
  },
  {
   "cell_type": "markdown",
   "metadata": {},
   "source": [
    "`*args` permite que una función acepte cualquier número de argumentos posicionales. Se recopila como una tupla. El nombre \"args\" es simplemente una convención, lo que importa es el asterisco (`*`) que precede al nombre."
   ]
  },
  {
   "cell_type": "code",
   "execution_count": 69,
   "metadata": {},
   "outputs": [
    {
     "name": "stdout",
     "output_type": "stream",
     "text": [
      "Ana\n",
      "Juan\n",
      "Luis\n"
     ]
    }
   ],
   "source": [
    "def mostrar_nombres(*nombres):\n",
    "    for nombre in nombres:\n",
    "        print(nombre)\n",
    "\n",
    "mostrar_nombres(\"Thorfinn\", \"Hange\", \"Madoka\")"
   ]
  },
  {
   "cell_type": "markdown",
   "metadata": {},
   "source": [
    "En el ejemplo anterior, aunque pasamos tres argumentos a mostrar_nombres, gracias a `*nombres`, la función los recoge todos en una tupla llamada nombres."
   ]
  },
  {
   "cell_type": "markdown",
   "metadata": {},
   "source": [
    "## `**kwargs`"
   ]
  },
  {
   "cell_type": "markdown",
   "metadata": {},
   "source": [
    "Permite que una función acepte cualquier número de argumentos por palabra clave. Se recopila como un `diccionario`. Al igual que con \"`args`\", el nombre \"`kwargs`\" es una convención, y lo que importa es el doble asterisco (`**`) que precede al nombre."
   ]
  },
  {
   "cell_type": "code",
   "execution_count": 78,
   "metadata": {},
   "outputs": [
    {
     "name": "stdout",
     "output_type": "stream",
     "text": [
      "nombre: Thorfinn\n",
      "edad: 20\n",
      "país: Vinlandia\n"
     ]
    }
   ],
   "source": [
    "def mostrar_datos(**datos):\n",
    "    for clave, valor in datos.items():\n",
    "        print(f\"{clave}: {valor}\")\n",
    "\n",
    "mostrar_datos(nombre=\"Thorfinn\", edad=20, país=\"Vinlandia\")\n"
   ]
  },
  {
   "cell_type": "markdown",
   "metadata": {},
   "source": [
    "En el ejemplo anterior, los argumentos por palabra clave que pasamos a la función `mostrar_datos` son recogidos en un diccionario llamado datos gracias a `**kwargs`."
   ]
  },
  {
   "cell_type": "markdown",
   "metadata": {},
   "source": [
    "## `*args` & `**kwargs`"
   ]
  },
  {
   "cell_type": "markdown",
   "metadata": {},
   "source": [
    "Puedes usar `*args` y `**kwargs` en la misma función, pero `*args` tiene que aparecer antes de `**kwargs` en la lista de parámetros de la función"
   ]
  },
  {
   "cell_type": "code",
   "execution_count": 80,
   "metadata": {},
   "outputs": [
    {
     "name": "stdout",
     "output_type": "stream",
     "text": [
      "1 2\n",
      "(3, 4, 5)\n",
      "{'clave1': 'valor1', 'clave2': 'valor2'}\n"
     ]
    }
   ],
   "source": [
    "def funcion_mixta(a, b, *args, **kwargs):\n",
    "    print(a, b)\n",
    "    print(args)\n",
    "    print(kwargs)\n",
    "\n",
    "funcion_mixta(1, 2, 3, 4, 5, clave1=\"valor1\", clave2=\"valor2\")\n"
   ]
  },
  {
   "cell_type": "markdown",
   "metadata": {},
   "source": [
    "# Clases"
   ]
  },
  {
   "cell_type": "markdown",
   "metadata": {},
   "source": [
    "## Clase base"
   ]
  },
  {
   "cell_type": "code",
   "execution_count": 72,
   "metadata": {},
   "outputs": [],
   "source": [
    "class Persona:\n",
    "    def __init__(self, nombre, edad):  # Constructor de la clase\n",
    "        self.nombre = nombre\n",
    "        self.edad = edad\n",
    "\n",
    "    def mostrar_informacion(self):\n",
    "        \"\"\"Muestra la información de la persona.\"\"\"\n",
    "        print(f\"Nombre: {self.nombre}\")\n",
    "        print(f\"Edad: {self.edad}\")\n",
    "\n",
    "    def cumplir_anos(self):\n",
    "        \"\"\"Incrementa la edad de la persona en 1 año.\"\"\"\n",
    "        self.edad += 1\n",
    "        print(f\"¡{self.nombre} ahora tiene {self.edad} años!\")"
   ]
  },
  {
   "cell_type": "code",
   "execution_count": 73,
   "metadata": {},
   "outputs": [
    {
     "name": "stdout",
     "output_type": "stream",
     "text": [
      "Nombre: Thorfinn\n",
      "Edad: 20\n",
      "¡Thorfinn ahora tiene 21 años!\n",
      "Nombre: Hange\n",
      "Edad: 30\n"
     ]
    }
   ],
   "source": [
    "# Crear una instancia de la clase Persona\n",
    "persona1 = Persona(\"Thorfinn\", 20)\n",
    "\n",
    "# Usar métodos de la clase\n",
    "persona1.mostrar_informacion()\n",
    "persona1.cumplir_anos()\n",
    "\n",
    "# Crear otra instancia de la clase Persona\n",
    "persona2 = Persona(\"Hange\", 30)\n",
    "persona2.mostrar_informacion()"
   ]
  },
  {
   "cell_type": "markdown",
   "metadata": {},
   "source": [
    "La clase `Persona`` define una \"plantilla\" para crear objetos de tipo Persona.\n",
    "\n",
    "El método `__init__` es un constructor especial que se llama cuando creas una nueva instancia de la clase. Los valores pasados al constructor (nombre y edad en este caso) se utilizan para inicializar las variables de instancia `self.nombre` y `self.edad`.\n",
    "\n",
    "Los métodos `mostrar_informacion` y `cumplir_anos` son funciones que actúan sobre los objetos de la clase `Persona` y pueden acceder o modificar sus atributos.\n",
    "\n",
    "La palabra clave self hace referencia a la instancia específica de la clase y permite acceder a los atributos y métodos asociados con esa instancia.\n",
    "\n",
    "Este es un ejemplo básico. Las clases en Python pueden tener mucha más funcionalidad, incluyendo herencia, métodos estáticos, métodos de clase, decoradores y mucho más.\n"
   ]
  },
  {
   "cell_type": "markdown",
   "metadata": {},
   "source": [
    "### Atributos"
   ]
  },
  {
   "cell_type": "markdown",
   "metadata": {},
   "source": [
    "Puedes acceder a los atributos del objeto utilizando la notacion de `.`"
   ]
  },
  {
   "cell_type": "code",
   "execution_count": 74,
   "metadata": {},
   "outputs": [
    {
     "name": "stdout",
     "output_type": "stream",
     "text": [
      "Thorfinn\n",
      "30\n"
     ]
    }
   ],
   "source": [
    "print(persona1.nombre)\n",
    "print(persona2.edad)"
   ]
  },
  {
   "cell_type": "markdown",
   "metadata": {},
   "source": [
    "## Herencia"
   ]
  },
  {
   "cell_type": "markdown",
   "metadata": {},
   "source": [
    "La función `super()` en Python se utiliza para llamar a un método en una clase padre.\n",
    "\n",
    "A continuación, te presento un ejemplo en el que una clase Empleado hereda de la clase `Persona` y utiliza `super()` para invocar el constructor de la clase padre."
   ]
  },
  {
   "cell_type": "code",
   "execution_count": 50,
   "metadata": {},
   "outputs": [],
   "source": [
    "class Alumne(Persona):\n",
    "    def __init__(self, nombre, edad, cu):\n",
    "        super().__init__(nombre, edad)  # Llamar al constructor de la clase madre (Persona)\n",
    "        self.cu = cu\n",
    "\n",
    "    def mostrar_informacion(self):\n",
    "        super().mostrar_informacion()  # Llamar al método mostrar_informacion de la clase madre\n",
    "        print(f\"CU del Alumne: {self.cu}\")"
   ]
  },
  {
   "cell_type": "code",
   "execution_count": 51,
   "metadata": {},
   "outputs": [
    {
     "name": "stdout",
     "output_type": "stream",
     "text": [
      "Nombre: Luffy\n",
      "Edad: 19\n",
      "CU del Alumne: 547\n"
     ]
    }
   ],
   "source": [
    "alumne = Alumne('Luffy', 19, 547)\n",
    "alumne.mostrar_informacion()"
   ]
  },
  {
   "cell_type": "markdown",
   "metadata": {},
   "source": [
    "## Funciones Especiales"
   ]
  },
  {
   "cell_type": "markdown",
   "metadata": {},
   "source": [
    "Las funciones especiales que utilizan la notación `__funcion__` en Python son a menudo llamadas \"métodos mágicos\" o \"dunder methods\" (abreviatura de \"double underscore\"). Estos métodos permiten a los objetos personalizar su comportamiento con respecto a operadores y funciones nativas de Python."
   ]
  },
  {
   "cell_type": "markdown",
   "metadata": {},
   "source": [
    "### `__init__` y `__del__`"
   ]
  },
  {
   "cell_type": "markdown",
   "metadata": {},
   "source": [
    "`__init__`: Constructor de la clase.  \n",
    "`__del__`: Destructor, se invoca cuando el objeto está a punto de ser destruido."
   ]
  },
  {
   "cell_type": "code",
   "execution_count": 57,
   "metadata": {},
   "outputs": [
    {
     "name": "stdout",
     "output_type": "stream",
     "text": [
      "Objeto creado.\n",
      "Objeto destruido.\n"
     ]
    }
   ],
   "source": [
    "class Ejemplo:\n",
    "    def __init__(self):\n",
    "        print(\"Objeto creado.\")\n",
    "\n",
    "    def __del__(self):\n",
    "        print(\"Objeto destruido.\")\n",
    "\n",
    "# Uso\n",
    "obj = Ejemplo()  # Imprime \"Objeto creado.\"\n",
    "del obj  # Imprime \"Objeto destruido.\"\n"
   ]
  },
  {
   "cell_type": "markdown",
   "metadata": {},
   "source": [
    "### `__str__` y `__repr__`"
   ]
  },
  {
   "cell_type": "markdown",
   "metadata": {},
   "source": [
    "`__str__`: Devuelve una representación legible del objeto, utilizada por la función `print()`.  \n",
    "`__repr__`: Devuelve una representación oficial del objeto, útil para desarrolladores."
   ]
  },
  {
   "cell_type": "code",
   "execution_count": 76,
   "metadata": {},
   "outputs": [
    {
     "name": "stdout",
     "output_type": "stream",
     "text": [
      "Madoka, 14 años.\n",
      "Persona('Madoka', 14)\n"
     ]
    },
    {
     "data": {
      "text/plain": [
       "\"Persona('Madoka', 14)\""
      ]
     },
     "execution_count": 76,
     "metadata": {},
     "output_type": "execute_result"
    }
   ],
   "source": [
    "class Persona:\n",
    "    def __init__(self, nombre, edad):\n",
    "        self.nombre = nombre\n",
    "        self.edad = edad\n",
    "\n",
    "    def __str__(self):\n",
    "        return f\"{self.nombre}, {self.edad} años.\"\n",
    "\n",
    "    def __repr__(self):\n",
    "        return f\"Persona('{self.nombre}', {self.edad})\"\n",
    "\n",
    "# Uso\n",
    "persona = Persona(\"Madoka\", 14)\n",
    "print(persona)  # Imprime \"Madoka, 14 años.\"\n",
    "print(repr(persona))  # Imprime \"Persona('Madoka', 14)\"\n",
    "persona.__repr__()\n"
   ]
  },
  {
   "cell_type": "markdown",
   "metadata": {},
   "source": [
    "### `__add__`, `__sub__`"
   ]
  },
  {
   "cell_type": "markdown",
   "metadata": {},
   "source": [
    "Estos métodos permiten definir el comportamiento de operadores aritméticos (+, -, *, /, etc.)."
   ]
  },
  {
   "cell_type": "code",
   "execution_count": 62,
   "metadata": {},
   "outputs": [
    {
     "name": "stdout",
     "output_type": "stream",
     "text": [
      "8\n",
      "2\n"
     ]
    }
   ],
   "source": [
    "class Numero:\n",
    "    def __init__(self, valor):\n",
    "        self.valor = valor\n",
    "\n",
    "    def __add__(self, otro_numero):\n",
    "        return Numero(self.valor + otro_numero.valor) # regresa un objeto de tipo numero\n",
    "    \n",
    "    def __sub__(self, otro_numero):\n",
    "        return Numero(self.valor - otro_numero.valor) # regresa un objeto de tipo numero\n",
    "\n",
    "    def __str__(self):\n",
    "        return str(self.valor)\n",
    "\n",
    "# Uso\n",
    "num1 = Numero(5)\n",
    "num2 = Numero(3)\n",
    "num3 = num1 + num2  # Uso de __add__\n",
    "print(num3)  # Imprime \"8\"\n",
    "\n",
    "num4 = num1 - num2\n",
    "print(num4)"
   ]
  },
  {
   "cell_type": "markdown",
   "metadata": {},
   "source": [
    "### `__eq__`, `__lt__`, `__le__`"
   ]
  },
  {
   "cell_type": "markdown",
   "metadata": {},
   "source": [
    "Estos métodos definen el comportamiento de operadores de comparación (==, <, <=, etc.)."
   ]
  },
  {
   "cell_type": "code",
   "execution_count": 63,
   "metadata": {},
   "outputs": [
    {
     "name": "stdout",
     "output_type": "stream",
     "text": [
      "True\n",
      "False\n"
     ]
    }
   ],
   "source": [
    "class Punto:\n",
    "    def __init__(self, x, y):\n",
    "        self.x = x\n",
    "        self.y = y\n",
    "\n",
    "    def __eq__(self, otro_punto):\n",
    "        return self.x == otro_punto.x and self.y == otro_punto.y\n",
    "\n",
    "# Uso\n",
    "punto1 = Punto(2, 3)\n",
    "punto2 = Punto(2, 3)\n",
    "punto3 = Punto(3, 4)\n",
    "\n",
    "print(punto1 == punto2)  # Imprime \"True\" porque utilizamos __eq__\n",
    "print(punto1 == punto3)  # Imprime \"False\"\n"
   ]
  },
  {
   "cell_type": "markdown",
   "metadata": {},
   "source": [
    "### `__len__`"
   ]
  },
  {
   "cell_type": "markdown",
   "metadata": {},
   "source": [
    "Permite definir el comportamiento de la función `len()` para el objeto."
   ]
  },
  {
   "cell_type": "code",
   "execution_count": 64,
   "metadata": {},
   "outputs": [
    {
     "name": "stdout",
     "output_type": "stream",
     "text": [
      "2\n"
     ]
    }
   ],
   "source": [
    "class Contenedor:\n",
    "    def __init__(self):\n",
    "        self.items = []\n",
    "\n",
    "    def agregar(self, item):\n",
    "        self.items.append(item)\n",
    "\n",
    "    def __len__(self):\n",
    "        return len(self.items)\n",
    "\n",
    "# Uso\n",
    "contenedor = Contenedor()\n",
    "contenedor.agregar(\"manzana\")\n",
    "contenedor.agregar(\"banana\")\n",
    "print(len(contenedor))  # Imprime \"2\" porque utilizamos __len__\n"
   ]
  },
  {
   "cell_type": "markdown",
   "metadata": {},
   "source": [
    "# Decoradores"
   ]
  },
  {
   "cell_type": "markdown",
   "metadata": {},
   "source": [
    "Un decorador en Python es una herramienta poderosa que permite modificar o extender la funcionalidad de funciones o métodos sin cambiar su código original. Esencialmente, un decorador es una función que toma otra función (o método) como argumento, y devuelve una función que, por lo general, extiende o modifica la función original.  \n",
    "\n",
    "Un decorador se aplica con `@decorador` antes de la funcion."
   ]
  },
  {
   "cell_type": "markdown",
   "metadata": {},
   "source": [
    "## Regsitro de llamadas"
   ]
  },
  {
   "cell_type": "markdown",
   "metadata": {},
   "source": [
    "La función `registrar` es un decorador que recibe una función `func` como argumento. Cuando decoras una función con `@registrar, esencialmente estás haciendo algo parecido a:  \n",
    " \n",
    "`saludar = registrar(saludar)`  \n"
   ]
  },
  {
   "cell_type": "markdown",
   "metadata": {},
   "source": [
    "El resultado de `registrar(saludar)` es la función `envoltorio`. Es decir, después de aplicar el decorador, cuando llamas a `saludar(...)`, en realidad estás llamando a `envoltorio(...)`.  \n"
   ]
  },
  {
   "cell_type": "markdown",
   "metadata": {},
   "source": [
    "La definición def `envoltorio(*args, **kwargs)`: está preparada para recibir cualquier número y tipo de argumentos, ya sean posicionales o por palabra clave, gracias a `*args` y `**kwargs`, respectivamente."
   ]
  },
  {
   "cell_type": "code",
   "execution_count": 77,
   "metadata": {},
   "outputs": [
    {
     "name": "stdout",
     "output_type": "stream",
     "text": [
      "Se llamó a la función: saludar\n",
      "Hola, Marx!\n"
     ]
    }
   ],
   "source": [
    "def registrar(func):\n",
    "    def envoltorio(*args, **kwargs):\n",
    "        print(f\"Se llamó a la función: {func.__name__}\")\n",
    "        resultado = func(*args, **kwargs) \n",
    "        return resultado\n",
    "    return envoltorio\n",
    "\n",
    "@registrar\n",
    "def saludar(nombre):\n",
    "    print(f\"Hola, {nombre}!\")\n",
    "\n",
    "saludar(\"Marx\")\n",
    "# Output:\n",
    "# Se llamó a la función: saludar\n",
    "# Hola, Juan!\n"
   ]
  },
  {
   "cell_type": "markdown",
   "metadata": {},
   "source": [
    "+ `def registrar(func)`: La función toma un solo argumento func, que será la función que el decorador modificará.  \n",
    "+ `def envoltorio(*args, **kwargs)`: Dentro de `registar`, definimos una función interna llamada `envoltorio` (`wrapper`). Esta función se encargará de ejecutar la función original `func`, pero añadiendo la funcionalidad extra de registrar de ejecución. Los argumentos *args y **kwargs permiten que envoltorio acepte cualquier número y tipo de argumentos, asegurando que cualquier función pueda ser decorada por `registar`\n",
    "+ `resultado = func(*args, **kwargs)`: Aquí es donde se ejecuta la función original que estamos decorando. Los argumentos que se pasaron a `envoltorio` (a través de `*args` y `**kwargs`) se pasan directamente a `func`. El resultado de esta función se guarda en la variable resultado, para que luego pueda ser devuelto por envoltorio.\n",
    "+ `return resultado`: Finalmente, `envoltorio` devuelve el resultado de la función original. Esto asegura que cualquier código que llame a la función decorada obtenga el mismo resultado que si llamara a la función sin decorar.\n",
    "+ `return envoltorio`: La función `registrar` devuelve envoltorio. Esencialmente, cuando decoras una función con `@registrar`, lo que realmente estás haciendo es reemplazar esa función con `envoltorio`. Sin embargo, dado que `envoltorio` llama a la función original dentro de sí misma, todo funciona de manera transparente."
   ]
  },
  {
   "cell_type": "markdown",
   "metadata": {},
   "source": [
    "## Medir tiempo de ejecucion"
   ]
  },
  {
   "cell_type": "code",
   "execution_count": 67,
   "metadata": {},
   "outputs": [
    {
     "name": "stdout",
     "output_type": "stream",
     "text": [
      "esperar tardó 2.0021023750305176 segundos en ejecutarse.\n"
     ]
    }
   ],
   "source": [
    "import time\n",
    "\n",
    "def medir_tiempo(func):\n",
    "    def envoltorio(*args, **kwargs):\n",
    "        inicio = time.time()\n",
    "        resultado = func(*args, **kwargs)\n",
    "        fin = time.time()\n",
    "        print(f\"{func.__name__} tardó {fin - inicio} segundos en ejecutarse.\")\n",
    "        return resultado\n",
    "    return envoltorio\n",
    "\n",
    "@medir_tiempo\n",
    "def esperar(segundos):\n",
    "    time.sleep(segundos)\n",
    "\n",
    "esperar(2)\n"
   ]
  },
  {
   "cell_type": "markdown",
   "metadata": {},
   "source": [
    "## Decorador como clase"
   ]
  },
  {
   "cell_type": "markdown",
   "metadata": {},
   "source": [
    "Cuando utilizamos decoradores en los métodos de una clase, la mecánica de cómo funciona la decoración cambia un poco. En lugar de simplemente devolver un método envuelto, estamos tratando con una instancia de una clase (el decorador) que intenta comportarse como una función. Para que esto funcione, necesitamos modificar la estructura del decorador."
   ]
  },
  {
   "cell_type": "markdown",
   "metadata": {},
   "source": [
    "Una solución es implementar la instancia del decorador como un descriptor, que define un método `__get__`. Este método permite que una instancia de una clase se comporte de manera especial cuando se accede a ella como un atributo."
   ]
  },
  {
   "cell_type": "markdown",
   "metadata": {},
   "source": [
    "El método `__get__` se utiliza para definir el comportamiento cuando se accede a un atributo. Si un objeto define __get__, se dice que es un \"descriptor de acceso\"."
   ]
  },
  {
   "cell_type": "markdown",
   "metadata": {},
   "source": [
    "__get__(self, instance, owner)\n",
    "\n",
    "    self: La instancia del descriptor.\n",
    "    instance: La instancia del objeto que contiene el descriptor. Si el descriptor se accede desde la clase y no desde una instancia de la clase, este argumento será None.\n",
    "    owner: La clase que posee (o contiene) el descriptor.\n",
    "\n",
    "Un uso común de __get__ es para calcular valores derivados de otros atributos o para implementar propiedades que se calculan dinámicamente."
   ]
  },
  {
   "cell_type": "code",
   "execution_count": 87,
   "metadata": {},
   "outputs": [
    {
     "name": "stdout",
     "output_type": "stream",
     "text": [
      "Mi nombre es ROBIN\n"
     ]
    }
   ],
   "source": [
    "class CapitalizarNombre:\n",
    "    def __init__(self, func):\n",
    "        self.func = func\n",
    "\n",
    "    def __get__(self, instance, owner):\n",
    "        # Esto convierte la instancia del decorador en un método ligado\n",
    "        def wrapper(*args, **kwargs):\n",
    "            instance.nombre = instance.nombre.upper()\n",
    "            return self.func(instance, *args, **kwargs)\n",
    "        return wrapper\n",
    "\n",
    "class Persona:\n",
    "    def __init__(self, nombre):\n",
    "        self.nombre = nombre\n",
    "\n",
    "    @CapitalizarNombre\n",
    "    def mostrar(self):\n",
    "        print(f\"Mi nombre es {self.nombre}\")\n",
    "\n",
    "p = Persona(\"Robin\")\n",
    "p.mostrar()\n",
    "# Output:\n",
    "# Mi nombre es ROBIN\n"
   ]
  },
  {
   "cell_type": "markdown",
   "metadata": {},
   "source": [
    "## Decoradores de clases"
   ]
  },
  {
   "cell_type": "markdown",
   "metadata": {},
   "source": [
    "### @staticmethod"
   ]
  },
  {
   "cell_type": "markdown",
   "metadata": {},
   "source": [
    "Se utiliza para definir un método estático dentro de una clase. Los métodos estáticos no toman un argumento `self` y no pueden modificar el estado del objeto, pero pueden acceder a los atributos de clase."
   ]
  },
  {
   "cell_type": "code",
   "execution_count": 89,
   "metadata": {},
   "outputs": [
    {
     "name": "stdout",
     "output_type": "stream",
     "text": [
      "valor de atributo de clase\n"
     ]
    }
   ],
   "source": [
    "class Ejemplo:\n",
    "    atributo_clase = \"valor de atributo de clase\"\n",
    "    \n",
    "    @staticmethod\n",
    "    def metodo_estatico():\n",
    "        print(Ejemplo.atributo_clase)\n",
    "\n",
    "Ejemplo.metodo_estatico()  # Salida: atributo de clase\n"
   ]
  },
  {
   "cell_type": "markdown",
   "metadata": {},
   "source": [
    "### @classmethod"
   ]
  },
  {
   "cell_type": "markdown",
   "metadata": {},
   "source": [
    "Se utiliza para definir un método de clase. Toma un argumento, generalmente llamado `cls`, **que hace referencia a la clase, no a la instancia del objeto**."
   ]
  },
  {
   "cell_type": "code",
   "execution_count": 90,
   "metadata": {},
   "outputs": [
    {
     "name": "stdout",
     "output_type": "stream",
     "text": [
      "atributo de clase\n"
     ]
    }
   ],
   "source": [
    "class Ejemplo:\n",
    "    atributo_clase = \"valor de atributo de clase\" # atributo de la clase\n",
    "    \n",
    "    @classmethod\n",
    "    def metodo_clase(cls):\n",
    "        print(cls.atributo_clase)\n",
    "\n",
    "Ejemplo.metodo_clase()  # Salida: atributo de clase\n"
   ]
  },
  {
   "cell_type": "markdown",
   "metadata": {},
   "source": [
    "### @property"
   ]
  },
  {
   "cell_type": "markdown",
   "metadata": {},
   "source": [
    "Permite acceder a un método como si fuera un atributo, sin necesidad de llamarlo como una función. Es útil para definir getters en clases."
   ]
  },
  {
   "cell_type": "code",
   "execution_count": 92,
   "metadata": {},
   "outputs": [
    {
     "name": "stdout",
     "output_type": "stream",
     "text": [
      "Monkey D Luffy\n"
     ]
    }
   ],
   "source": [
    "class Persona:\n",
    "    def __init__(self, nombre, apellido):\n",
    "        self._nombre = nombre\n",
    "        self._apellido = apellido\n",
    "    \n",
    "    @property\n",
    "    def nombre_completo(self):\n",
    "        return f\"{self._nombre} {self._apellido}\"\n",
    "\n",
    "persona = Persona(\"Monkey\", \"D. Luffy\")\n",
    "print(persona.nombre_completo)  # Salida: Juan Pérez\n"
   ]
  },
  {
   "cell_type": "markdown",
   "metadata": {},
   "source": [
    "### @setter"
   ]
  },
  {
   "cell_type": "markdown",
   "metadata": {},
   "source": [
    "**Tarea**:\n",
    "    Explica detalladamente como funciona el siguiente snippet de codigo"
   ]
  },
  {
   "cell_type": "code",
   "execution_count": 95,
   "metadata": {},
   "outputs": [
    {
     "name": "stdout",
     "output_type": "stream",
     "text": [
      "Shinji\n",
      "Ikari\n"
     ]
    }
   ],
   "source": [
    "class Persona:\n",
    "    def __init__(self, nombre, apellido):\n",
    "        self._nombre = nombre\n",
    "        self._apellido = apellido\n",
    "    \n",
    "    @property\n",
    "    def nombre_completo(self):\n",
    "        return f\"{self._nombre} {self._apellido}\"\n",
    "\n",
    "    @nombre_completo.setter\n",
    "    def nombre_completo(self, nombre_completo):\n",
    "        self._nombre, self._apellido = nombre_completo.split(\" \")\n",
    "\n",
    "persona = Persona(\"J\", \"Mokoto\")\n",
    "persona.nombre_completo = \"Shinji Ikari\"\n",
    "print(persona._nombre)  # Salida: Ana\n",
    "print(persona._apellido)  # Salida: Rodríguez\n"
   ]
  },
  {
   "cell_type": "markdown",
   "metadata": {},
   "source": [
    "Responde la tarea aqui:"
   ]
  },
  {
   "cell_type": "markdown",
   "metadata": {},
   "source": [
    "# Archivos"
   ]
  },
  {
   "cell_type": "markdown",
   "metadata": {},
   "source": [
    "## with"
   ]
  },
  {
   "cell_type": "markdown",
   "metadata": {},
   "source": [
    "El bloque with en Python es usado para simplificar la gestión de recursos, como archivos, conexiones de red, o bases de datos. Se utiliza en conjunto con objetos que soportan el protocolo de contexto, es decir, objetos que definen los métodos `__enter__()` y `__exit__()`. El propósito principal es asegurarse de que los recursos se limpien o se liberen correctamente, incluso si ocurren excepciones."
   ]
  },
  {
   "cell_type": "code",
   "execution_count": 36,
   "metadata": {},
   "outputs": [
    {
     "name": "stdout",
     "output_type": "stream",
     "text": [
      "Entrando al bloque with...\n",
      "¡Hola desde EjemploWith!\n",
      "Saliendo del bloque with...\n",
      "Fuera del bloque with.\n"
     ]
    }
   ],
   "source": [
    "class EjemploWith:\n",
    "\n",
    "    def __enter__(self):\n",
    "        print(\"Entrando al bloque with...\")\n",
    "        return self  # Este valor es asignado a la variable después de 'as'\n",
    "    \n",
    "    def __exit__(self, exc_type, exc_value, traceback):\n",
    "        print(\"Saliendo del bloque with...\")\n",
    "        # Si retorna True, cualquier excepción que ocurra en el bloque with será suprimida.\n",
    "        # Si retorna False, la excepción se propagará.\n",
    "        return False  \n",
    "    \n",
    "    def decir_hola(self):\n",
    "        print(\"¡Hola desde EjemploWith!\")\n",
    "\n",
    "# Usar nuestra clase con 'with'\n",
    "with EjemploWith() as ejemplo:\n",
    "    ejemplo.decir_hola()\n",
    "\n",
    "print(\"Fuera del bloque with.\")\n"
   ]
  },
  {
   "cell_type": "markdown",
   "metadata": {},
   "source": [
    "## Crear y escribir en un archivo de texto:"
   ]
  },
  {
   "cell_type": "markdown",
   "metadata": {},
   "source": [
    "El modo 'w' indica que el archivo se debe abrir en modo de escritura.  \n",
    "Si el archivo ya existe, su contenido se sobrescribirá. Si no existe, se creará."
   ]
  },
  {
   "cell_type": "code",
   "execution_count": 39,
   "metadata": {},
   "outputs": [],
   "source": [
    "# Crear (o abrir si ya existe) un archivo llamado 'mi_archivo.txt' y escribir en él\n",
    "with open('mi_archivo.txt', 'w') as file:\n",
    "    file.write(\"Hola, mundo!\\n\")   # Escribe la primera línea\n",
    "    file.write(\"Bienvenido a mi archivo de texto.\\n\")  # Escribe la segunda línea\n",
    "    file.write(\"¡Hasta luego!\\n\")  # Escribe la tercera línea"
   ]
  },
  {
   "cell_type": "code",
   "execution_count": 33,
   "metadata": {},
   "outputs": [
    {
     "name": "stdout",
     "output_type": "stream",
     "text": [
      "<_io.TextIOWrapper name='mi_archivo.txt' mode='w' encoding='UTF-8'>\n",
      "<_io.TextIOWrapper name='mi_archivo.txt' mode='w' encoding='UTF-8'>\n"
     ]
    }
   ],
   "source": [
    "with open('mi_archivo.txt', 'w') as file:\n",
    "    print(file)"
   ]
  },
  {
   "cell_type": "markdown",
   "metadata": {},
   "source": [
    "## Leer de un archivo de texto:"
   ]
  },
  {
   "cell_type": "markdown",
   "metadata": {},
   "source": [
    "El modo 'r' indica que el archivo se debe abrir en modo de lectura. Es el modo por defecto, así que también puedes omitirlo `open('mi_archivo.txt')` haría lo mismo."
   ]
  },
  {
   "cell_type": "code",
   "execution_count": 27,
   "metadata": {},
   "outputs": [
    {
     "name": "stdout",
     "output_type": "stream",
     "text": [
      "2222Hola, mundo!\n",
      "Bienvenido a mi archivo de texto.\n",
      "¡Hasta luego!\n",
      "\n"
     ]
    }
   ],
   "source": [
    "# Leer el contenido de 'mi_archivo.txt'\n",
    "with open('mi_archivo.txt', 'r') as file:\n",
    "    contenido = file.read()\n",
    "    print(contenido)"
   ]
  },
  {
   "cell_type": "markdown",
   "metadata": {},
   "source": [
    "Si quieres leer el archivo línea por línea, puedes hacerlo de la siguiente manera:"
   ]
  },
  {
   "cell_type": "code",
   "execution_count": 40,
   "metadata": {},
   "outputs": [
    {
     "name": "stdout",
     "output_type": "stream",
     "text": [
      "Hola, mundo!\n",
      "Bienvenido a mi archivo de texto.\n",
      "¡Hasta luego!\n"
     ]
    }
   ],
   "source": [
    "with open('mi_archivo.txt', 'r') as file:\n",
    "    for linea in file:\n",
    "        print(linea, end='')  # end='' evita las líneas en blanco adicionales al imprimir"
   ]
  },
  {
   "cell_type": "markdown",
   "metadata": {},
   "source": [
    "## Agregar contenido"
   ]
  },
  {
   "cell_type": "markdown",
   "metadata": {},
   "source": [
    "El modo `a` coloca el cursor al final del archivo antes de escribir, por lo que todo lo que escribas se añadirá después del contenido existente. Si el archivo no existe, se creará."
   ]
  },
  {
   "cell_type": "code",
   "execution_count": 41,
   "metadata": {},
   "outputs": [
    {
     "name": "stdout",
     "output_type": "stream",
     "text": [
      "Hola, mundo!\n",
      "Bienvenido a mi archivo de texto.\n",
      "¡Hasta luego!\n",
      "Esta es una línea adicional.\n",
      "Y esta es otra línea adicional.\n",
      "\n"
     ]
    }
   ],
   "source": [
    "with open('mi_archivo.txt', 'a') as file:\n",
    "    file.write(\"Esta es una línea adicional.\\n\")\n",
    "    file.write(\"Y esta es otra línea adicional.\\n\")\n",
    "    \n",
    "# Leer el contenido de 'mi_archivo.txt'\n",
    "with open('mi_archivo.txt', 'r') as file:\n",
    "    contenido = file.read()\n",
    "    print(contenido)\n"
   ]
  }
 ],
 "metadata": {
  "kernelspec": {
   "display_name": "itam",
   "language": "python",
   "name": "python3"
  },
  "language_info": {
   "codemirror_mode": {
    "name": "ipython",
    "version": 3
   },
   "file_extension": ".py",
   "mimetype": "text/x-python",
   "name": "python",
   "nbconvert_exporter": "python",
   "pygments_lexer": "ipython3",
   "version": "3.10.12"
  },
  "orig_nbformat": 4
 },
 "nbformat": 4,
 "nbformat_minor": 2
}
