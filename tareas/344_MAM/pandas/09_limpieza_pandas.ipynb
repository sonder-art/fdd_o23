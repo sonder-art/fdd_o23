{
 "cells": [
  {
   "attachments": {},
   "cell_type": "markdown",
   "metadata": {},
   "source": [
    "# Prediccion de Default en Prestamos\n"
   ]
  },
  {
   "cell_type": "markdown",
   "metadata": {},
   "source": [
    "Para este proyecto utilizaremos un sample de los datos de Lending Club. La idea es predecir si cierto usuario cometera Default basado en informacion que la plataforma recolecta. Esto nos ayudara a mejorar la metodologia/pipeline de prestamo.\n"
   ]
  },
  {
   "attachments": {},
   "cell_type": "markdown",
   "metadata": {},
   "source": [
    "# Descripcion"
   ]
  },
  {
   "attachments": {},
   "cell_type": "markdown",
   "metadata": {},
   "source": [
    "\n",
    "\n",
    "Contiene los prestamos de esta plataforma:\n",
    "\n",
    "    periodo 2007-2017Q3.\n",
    "    887mil observaciones, sample de 100mil\n",
    "    150 variables\n",
    "    Target: loan status\n",
    "\n"
   ]
  },
  {
   "cell_type": "markdown",
   "metadata": {},
   "source": [
    "# Objetivo"
   ]
  },
  {
   "cell_type": "markdown",
   "metadata": {},
   "source": [
    "Realizar un ETL y un EDA"
   ]
  },
  {
   "attachments": {},
   "cell_type": "markdown",
   "metadata": {},
   "source": [
    "## ETL"
   ]
  },
  {
   "attachments": {},
   "cell_type": "markdown",
   "metadata": {},
   "source": [
    "0. Limpia los datos de tal manera que al final del ETL queden en formato `tidy`.\n",
    "1. Asegurate de cargar y leer los datos\n",
    "2. Crea una tabla donde se guarde el nombre de la columna y el tipo de dato: (`column_name`,   `type`).\n",
    "3. Asegurate de pensar cual es el tipo de dato correcto. Porque elejiste strig/object o float o int?. No hay respuestas incorrectas como tal, pero tienes que justificar tu decision.\n",
    "4. Maneja missings o nans de la manera adecuada. Justifica cada decision\n",
    "\n",
    "\n",
    "\n",
    "\n",
    "\n"
   ]
  },
  {
   "attachments": {},
   "cell_type": "markdown",
   "metadata": {},
   "source": [
    "## EDA"
   ]
  },
  {
   "attachments": {},
   "cell_type": "markdown",
   "metadata": {},
   "source": [
    "0. Preparar lo datos para un pipeline de datos\n",
    "1. Quitar columnas inservibles \n",
    "2. Imputar valores\n",
    "3. Mantener replicabildiad y reproducibilidad"
   ]
  },
  {
   "attachments": {},
   "cell_type": "markdown",
   "metadata": {},
   "source": [
    "**No olvides anotar tus justificaciones en celdas para recordar cuando te toque explicarlo.** Puedes agregar el numero de celdas que necesites para poner tu explicacion y el codigo, solo manten la estructura."
   ]
  },
  {
   "attachments": {},
   "cell_type": "markdown",
   "metadata": {},
   "source": [
    "# ETL"
   ]
  },
  {
   "cell_type": "code",
   "execution_count": 16,
   "metadata": {},
   "outputs": [],
   "source": [
    "import pandas as pd\n",
    "import numpy as np"
   ]
  },
  {
   "attachments": {},
   "cell_type": "markdown",
   "metadata": {},
   "source": [
    "Vas a obtener 2 errores, solucionalo con los visto en clase.  \n",
    "Tip: Se arreglan con argumentos adicionales de la funcion `read_csv`  \n",
    "Documentacion: https://pandas.pydata.org/docs/reference/api/pandas.read_csv.html "
   ]
  },
  {
   "cell_type": "code",
   "execution_count": 18,
   "metadata": {},
   "outputs": [
    {
     "name": "stderr",
     "output_type": "stream",
     "text": [
      "c:\\Users\\maria\\anaconda3\\lib\\site-packages\\IPython\\core\\interactiveshell.py:3444: DtypeWarning: Columns (19) have mixed types.Specify dtype option on import or set low_memory=False.\n",
      "  exec(code_obj, self.user_global_ns, self.user_ns)\n"
     ]
    }
   ],
   "source": [
    "loans_url = 'https://github.com/sonder-art/fdd_prim_2023/blob/main/codigo/pandas/LoansData_sample.csv.gz?raw=true'\n",
    "loans = pd.read_csv(loans_url, compression='gzip')"
   ]
  },
  {
   "cell_type": "markdown",
   "metadata": {},
   "source": [
    "## Tabla (column_name, type)"
   ]
  },
  {
   "attachments": {},
   "cell_type": "markdown",
   "metadata": {},
   "source": [
    "Revisa el metodo pd.DataFrame.dtypes. https://pandas.pydata.org/docs/reference/api/pandas.DataFrame.dtypes.html "
   ]
  },
  {
   "cell_type": "code",
   "execution_count": 20,
   "metadata": {},
   "outputs": [
    {
     "data": {
      "text/html": [
       "<div>\n",
       "<style scoped>\n",
       "    .dataframe tbody tr th:only-of-type {\n",
       "        vertical-align: middle;\n",
       "    }\n",
       "\n",
       "    .dataframe tbody tr th {\n",
       "        vertical-align: top;\n",
       "    }\n",
       "\n",
       "    .dataframe thead th {\n",
       "        text-align: right;\n",
       "    }\n",
       "</style>\n",
       "<table border=\"1\" class=\"dataframe\">\n",
       "  <thead>\n",
       "    <tr style=\"text-align: right;\">\n",
       "      <th></th>\n",
       "      <th>column_name</th>\n",
       "      <th>type</th>\n",
       "    </tr>\n",
       "  </thead>\n",
       "  <tbody>\n",
       "    <tr>\n",
       "      <th>0</th>\n",
       "      <td>Unnamed: 0</td>\n",
       "      <td>int64</td>\n",
       "    </tr>\n",
       "    <tr>\n",
       "      <th>1</th>\n",
       "      <td>id</td>\n",
       "      <td>int64</td>\n",
       "    </tr>\n",
       "    <tr>\n",
       "      <th>2</th>\n",
       "      <td>member_id</td>\n",
       "      <td>float64</td>\n",
       "    </tr>\n",
       "    <tr>\n",
       "      <th>3</th>\n",
       "      <td>loan_amnt</td>\n",
       "      <td>float64</td>\n",
       "    </tr>\n",
       "    <tr>\n",
       "      <th>4</th>\n",
       "      <td>funded_amnt</td>\n",
       "      <td>float64</td>\n",
       "    </tr>\n",
       "    <tr>\n",
       "      <th>...</th>\n",
       "      <td>...</td>\n",
       "      <td>...</td>\n",
       "    </tr>\n",
       "    <tr>\n",
       "      <th>146</th>\n",
       "      <td>settlement_status</td>\n",
       "      <td>object</td>\n",
       "    </tr>\n",
       "    <tr>\n",
       "      <th>147</th>\n",
       "      <td>settlement_date</td>\n",
       "      <td>object</td>\n",
       "    </tr>\n",
       "    <tr>\n",
       "      <th>148</th>\n",
       "      <td>settlement_amount</td>\n",
       "      <td>float64</td>\n",
       "    </tr>\n",
       "    <tr>\n",
       "      <th>149</th>\n",
       "      <td>settlement_percentage</td>\n",
       "      <td>float64</td>\n",
       "    </tr>\n",
       "    <tr>\n",
       "      <th>150</th>\n",
       "      <td>settlement_term</td>\n",
       "      <td>float64</td>\n",
       "    </tr>\n",
       "  </tbody>\n",
       "</table>\n",
       "<p>151 rows × 2 columns</p>\n",
       "</div>"
      ],
      "text/plain": [
       "               column_name     type\n",
       "0               Unnamed: 0    int64\n",
       "1                       id    int64\n",
       "2                member_id  float64\n",
       "3                loan_amnt  float64\n",
       "4              funded_amnt  float64\n",
       "..                     ...      ...\n",
       "146      settlement_status   object\n",
       "147        settlement_date   object\n",
       "148      settlement_amount  float64\n",
       "149  settlement_percentage  float64\n",
       "150        settlement_term  float64\n",
       "\n",
       "[151 rows x 2 columns]"
      ]
     },
     "execution_count": 20,
     "metadata": {},
     "output_type": "execute_result"
    }
   ],
   "source": [
    "# Extraer los nombres de las columnas y sus tipos de datos\n",
    "column_data = [(col, dtype) for col, dtype in zip(loans.columns, loans.dtypes)]\n",
    "\n",
    "# Convertir a un DataFrame de pandas\n",
    "column_types_df = pd.DataFrame(column_data, columns=['column_name', 'type'])\n",
    "\n",
    "# Mostrar el DataFrame creado\n",
    "column_types_df"
   ]
  },
  {
   "cell_type": "markdown",
   "metadata": {},
   "source": [
    "## Cargar descripcion de columnas"
   ]
  },
  {
   "attachments": {},
   "cell_type": "markdown",
   "metadata": {},
   "source": [
    "La siguiente tabla tiene una descripcion del significado de cada columna"
   ]
  },
  {
   "cell_type": "code",
   "execution_count": 21,
   "metadata": {},
   "outputs": [],
   "source": [
    "datos_dict = pd.read_excel(\n",
    "    'https://resources.lendingclub.com/LCDataDictionary.xlsx')\n",
    "datos_dict.columns = ['feature', 'description']"
   ]
  },
  {
   "cell_type": "code",
   "execution_count": 22,
   "metadata": {},
   "outputs": [
    {
     "data": {
      "text/html": [
       "<div>\n",
       "<style scoped>\n",
       "    .dataframe tbody tr th:only-of-type {\n",
       "        vertical-align: middle;\n",
       "    }\n",
       "\n",
       "    .dataframe tbody tr th {\n",
       "        vertical-align: top;\n",
       "    }\n",
       "\n",
       "    .dataframe thead th {\n",
       "        text-align: right;\n",
       "    }\n",
       "</style>\n",
       "<table border=\"1\" class=\"dataframe\">\n",
       "  <thead>\n",
       "    <tr style=\"text-align: right;\">\n",
       "      <th></th>\n",
       "      <th>feature</th>\n",
       "      <th>description</th>\n",
       "    </tr>\n",
       "  </thead>\n",
       "  <tbody>\n",
       "    <tr>\n",
       "      <th>0</th>\n",
       "      <td>acc_now_delinq</td>\n",
       "      <td>The number of accounts on which the borrower i...</td>\n",
       "    </tr>\n",
       "    <tr>\n",
       "      <th>1</th>\n",
       "      <td>acc_open_past_24mths</td>\n",
       "      <td>Number of trades opened in past 24 months.</td>\n",
       "    </tr>\n",
       "    <tr>\n",
       "      <th>2</th>\n",
       "      <td>addr_state</td>\n",
       "      <td>The state provided by the borrower in the loan...</td>\n",
       "    </tr>\n",
       "    <tr>\n",
       "      <th>3</th>\n",
       "      <td>all_util</td>\n",
       "      <td>Balance to credit limit on all trades</td>\n",
       "    </tr>\n",
       "    <tr>\n",
       "      <th>4</th>\n",
       "      <td>annual_inc</td>\n",
       "      <td>The self-reported annual income provided by th...</td>\n",
       "    </tr>\n",
       "    <tr>\n",
       "      <th>...</th>\n",
       "      <td>...</td>\n",
       "      <td>...</td>\n",
       "    </tr>\n",
       "    <tr>\n",
       "      <th>148</th>\n",
       "      <td>settlement_amount</td>\n",
       "      <td>The loan amount that the borrower has agreed t...</td>\n",
       "    </tr>\n",
       "    <tr>\n",
       "      <th>149</th>\n",
       "      <td>settlement_percentage</td>\n",
       "      <td>The settlement amount as a percentage of the p...</td>\n",
       "    </tr>\n",
       "    <tr>\n",
       "      <th>150</th>\n",
       "      <td>settlement_term</td>\n",
       "      <td>The number of months that the borrower will be...</td>\n",
       "    </tr>\n",
       "    <tr>\n",
       "      <th>151</th>\n",
       "      <td>NaN</td>\n",
       "      <td>NaN</td>\n",
       "    </tr>\n",
       "    <tr>\n",
       "      <th>152</th>\n",
       "      <td>NaN</td>\n",
       "      <td>* Employer Title replaces Employer Name for al...</td>\n",
       "    </tr>\n",
       "  </tbody>\n",
       "</table>\n",
       "<p>153 rows × 2 columns</p>\n",
       "</div>"
      ],
      "text/plain": [
       "                   feature                                        description\n",
       "0           acc_now_delinq  The number of accounts on which the borrower i...\n",
       "1     acc_open_past_24mths         Number of trades opened in past 24 months.\n",
       "2               addr_state  The state provided by the borrower in the loan...\n",
       "3                 all_util              Balance to credit limit on all trades\n",
       "4               annual_inc  The self-reported annual income provided by th...\n",
       "..                     ...                                                ...\n",
       "148      settlement_amount  The loan amount that the borrower has agreed t...\n",
       "149  settlement_percentage  The settlement amount as a percentage of the p...\n",
       "150        settlement_term  The number of months that the borrower will be...\n",
       "151                    NaN                                                NaN\n",
       "152                    NaN  * Employer Title replaces Employer Name for al...\n",
       "\n",
       "[153 rows x 2 columns]"
      ]
     },
     "execution_count": 22,
     "metadata": {},
     "output_type": "execute_result"
    }
   ],
   "source": [
    "datos_dict"
   ]
  },
  {
   "attachments": {},
   "cell_type": "markdown",
   "metadata": {},
   "source": [
    "### Pickle"
   ]
  },
  {
   "attachments": {},
   "cell_type": "markdown",
   "metadata": {},
   "source": [
    "Crea codigo para **guardar** y **cargar** el DataFrame de `datos_dict` creada en las celdas anteriores en formato **pickle**"
   ]
  },
  {
   "cell_type": "code",
   "execution_count": 23,
   "metadata": {},
   "outputs": [],
   "source": [
    "# COdigo guardar\n",
    "# Cargar la hoja de cálculo del diccionario de datos de Lending Club en un DataFrame\n",
    "datos_dict = pd.read_excel(\n",
    "    'https://resources.lendingclub.com/LCDataDictionary.xlsx')\n",
    "datos_dict.columns = ['feature', 'description']\n",
    "\n",
    "# Guardar el DataFrame en un archivo pickle en tu entorno local\n",
    "pickle_path = 'datos_dict.pkl'  # Ajusta la ruta según sea necesario\n",
    "datos_dict.to_pickle(pickle_path)"
   ]
  },
  {
   "cell_type": "code",
   "execution_count": 24,
   "metadata": {},
   "outputs": [
    {
     "name": "stdout",
     "output_type": "stream",
     "text": [
      "                feature                                        description\n",
      "0        acc_now_delinq  The number of accounts on which the borrower i...\n",
      "1  acc_open_past_24mths         Number of trades opened in past 24 months.\n",
      "2            addr_state  The state provided by the borrower in the loan...\n",
      "3              all_util              Balance to credit limit on all trades\n",
      "4            annual_inc  The self-reported annual income provided by th...\n"
     ]
    }
   ],
   "source": [
    "# Codigo para cargar\n",
    "datos_dict_loaded = pd.read_pickle(pickle_path)\n",
    "\n",
    "# Mostrar el DataFrame cargado para confirmar\n",
    "print(datos_dict_loaded.head())"
   ]
  },
  {
   "cell_type": "markdown",
   "metadata": {},
   "source": [
    "## Tipos de Datos"
   ]
  },
  {
   "cell_type": "markdown",
   "metadata": {},
   "source": [
    "Realiza las transformaciones o casteos (casting) que creas necesarios a tus datos de tal manera que el typo de dato sea adecuado. Al terminar recrea la tabla `column_types` con los nuevos tipos."
   ]
  },
  {
   "attachments": {},
   "cell_type": "markdown",
   "metadata": {},
   "source": [
    "No olvides anotar tus justificaciones para recordar cuando te toque explicarlo."
   ]
  },
  {
   "cell_type": "code",
   "execution_count": 34,
   "metadata": {},
   "outputs": [
    {
     "name": "stdout",
     "output_type": "stream",
     "text": [
      "Index(['loan_amnt', 'funded_amnt', 'funded_amnt_inv', 'term', 'int_rate',\n",
      "       'installment', 'grade', 'sub_grade', 'emp_title', 'emp_length',\n",
      "       ...\n",
      "       'hardship_payoff_balance_amount', 'hardship_last_payment_amount',\n",
      "       'disbursement_method', 'debt_settlement_flag',\n",
      "       'debt_settlement_flag_date', 'settlement_status', 'settlement_date',\n",
      "       'settlement_amount', 'settlement_percentage', 'settlement_term'],\n",
      "      dtype='object', length=148)\n"
     ]
    }
   ],
   "source": [
    "# Manejos de tipos 1\n",
    "# Tu codigo aqui\n",
    "print(loans.columns) #para ver las columnas\n",
    "# Nos aseguramos de que todas las fechas estén en formato \"datetime\"\n",
    "loans['debt_settlement_flag_date'] = pd.to_datetime(loans['debt_settlement_flag_date'])\n",
    "loans['settlement_date'] = pd.to_datetime(loans['settlement_date'])\n",
    "loans['grade'] = loans['grade'].astype('category')"
   ]
  },
  {
   "cell_type": "code",
   "execution_count": 35,
   "metadata": {},
   "outputs": [
    {
     "name": "stdout",
     "output_type": "stream",
     "text": [
      "               column_name        new_type\n",
      "0                loan_amnt         float64\n",
      "1              funded_amnt         float64\n",
      "2          funded_amnt_inv         float64\n",
      "3                     term           int32\n",
      "4                 int_rate         float64\n",
      "..                     ...             ...\n",
      "143      settlement_status          object\n",
      "144        settlement_date  datetime64[ns]\n",
      "145      settlement_amount         float64\n",
      "146  settlement_percentage         float64\n",
      "147        settlement_term         float64\n",
      "\n",
      "[148 rows x 2 columns]\n"
     ]
    }
   ],
   "source": [
    "# Manejos de tipos 2\n",
    "# Tu codigo aqui\n",
    "nuevos_tipos = [(col, dtype) for col, dtype in zip(loans.columns, loans.dtypes)]\n",
    "column_types_updated = pd.DataFrame(nuevos_tipos, columns=['column_name', 'new_type'])\n",
    "print(column_types_updated)"
   ]
  },
  {
   "attachments": {},
   "cell_type": "markdown",
   "metadata": {},
   "source": [
    "## Manejo de NaNs o missings"
   ]
  },
  {
   "attachments": {},
   "cell_type": "markdown",
   "metadata": {},
   "source": [
    "Maneja los datos de tipos missing. Elije una estrategia adecuada dependiendo del tipo de dato que le asignaste a la columna.\n"
   ]
  },
  {
   "attachments": {},
   "cell_type": "markdown",
   "metadata": {},
   "source": [
    "Crea codigo para **guardar** y **cargar** un archivo JSON en el que se guarde la `estrategia` y `valor` que utilizaste para **imputar**. Por ejemplo: Si hay una columna que se llama `columna 3` y utilizaste la estrategia de imputacion de media, y existe otra llamada `columna 4` y  elegiste la palabra 'missing' el JSON debera contener:  \n",
    "  \n",
    " `{'columna 3':{'estrategia':'mean', 'valor':3.4}, 'columna 4':{'estrategia':'identificador', 'valor':'missing'}}`  \n",
    "\n",
    " De tal manera que para cada columna que tenga un metodo de imputacion apunte a otro diccionario donde el **key** `estrategia` describa de manera sencilla el metodo, y el **key** `valor` el valor usado. En general:   \n",
    " `{'nombre de la columna':{'estrategia':'descripcion de estrategia', 'valor':'valor utilizado'}}`. \n",
    " \n",
    "\n",
    "De utilizar mas de un metodo puedes anidarlos en una lista  \n",
    "  `[{...},{...}]`.  \n",
    "\n",
    "Incluso si la columna utilizada no sufrio imputacion, es necesario que la agregues al JSON.\n",
    "\n",
    "La idea es que cualquier otra persona pueda cargar el el archivo JSON con tu funcion, entender que hiciste y replicarlo facilmente. No existe solo una respuesta correcta, pero tendras que justificar y explicar tus deciciones."
   ]
  },
  {
   "cell_type": "code",
   "execution_count": 47,
   "metadata": {},
   "outputs": [
    {
     "name": "stdout",
     "output_type": "stream",
     "text": [
      "Primeras 5 filas del DataFrame:\n",
      "   loan_amnt  funded_amnt  funded_amnt_inv  term  int_rate  installment grade  \\\n",
      "0    15000.0      15000.0          15000.0    60     12.39       336.64     C   \n",
      "1    10400.0      10400.0          10400.0    36      6.99       321.08     A   \n",
      "2    21425.0      21425.0          21425.0    60     15.59       516.36     D   \n",
      "3    12800.0      12800.0          12800.0    60     17.14       319.08     D   \n",
      "4     7650.0       7650.0           7650.0    36     13.66       260.20     C   \n",
      "\n",
      "  sub_grade                        emp_title emp_length  ...  \\\n",
      "0        C1                       MANAGEMENT  10+ years  ...   \n",
      "1        A3   Truck Driver Delivery Personel    8 years  ...   \n",
      "2        D1  Programming Analysis Supervisor    6 years  ...   \n",
      "3        D4        Senior Sales Professional  10+ years  ...   \n",
      "4        C3             Technical Specialist   < 1 year  ...   \n",
      "\n",
      "  hardship_payoff_balance_amount  hardship_last_payment_amount  \\\n",
      "0                    8046.616541                    186.563135   \n",
      "1                    8046.616541                    186.563135   \n",
      "2                    8046.616541                    186.563135   \n",
      "3                    8046.616541                    186.563135   \n",
      "4                    8046.616541                    186.563135   \n",
      "\n",
      "  disbursement_method debt_settlement_flag debt_settlement_flag_date  \\\n",
      "0                Cash                    N                       NaT   \n",
      "1                Cash                    N                       NaT   \n",
      "2                Cash                    N                       NaT   \n",
      "3                Cash                    N                       NaT   \n",
      "4                Cash                    N                       NaT   \n",
      "\n",
      "  settlement_status settlement_date settlement_amount settlement_percentage  \\\n",
      "0           missing             NaT       4768.376357             47.720519   \n",
      "1           missing             NaT       4768.376357             47.720519   \n",
      "2           missing             NaT       4768.376357             47.720519   \n",
      "3           missing             NaT       4768.376357             47.720519   \n",
      "4           missing             NaT       4768.376357             47.720519   \n",
      "\n",
      "  settlement_term  \n",
      "0        8.265116  \n",
      "1        8.265116  \n",
      "2        8.265116  \n",
      "3        8.265116  \n",
      "4        8.265116  \n",
      "\n",
      "[5 rows x 148 columns]\n",
      "\n",
      "Información del DataFrame:\n",
      "<class 'pandas.core.frame.DataFrame'>\n",
      "RangeIndex: 100000 entries, 0 to 99999\n",
      "Columns: 148 entries, loan_amnt to settlement_term\n",
      "dtypes: category(1), datetime64[ns](2), float64(114), int32(1), object(30)\n",
      "memory usage: 111.9+ MB\n",
      "None\n",
      "\n",
      "Resumen estadístico:\n",
      "           loan_amnt    funded_amnt  funded_amnt_inv           term  \\\n",
      "count  100000.000000  100000.000000    100000.000000  100000.000000   \n",
      "mean    14886.930000   14886.930000     14883.910500      43.618800   \n",
      "std      8504.432514    8504.432514      8502.519174      11.171676   \n",
      "min      1000.000000    1000.000000      1000.000000      36.000000   \n",
      "25%      8000.000000    8000.000000      8000.000000      36.000000   \n",
      "50%     13050.000000   13050.000000     13050.000000      36.000000   \n",
      "75%     20000.000000   20000.000000     20000.000000      60.000000   \n",
      "max     35000.000000   35000.000000     35000.000000      60.000000   \n",
      "\n",
      "            int_rate    installment    annual_inc            dti  \\\n",
      "count  100000.000000  100000.000000  1.000000e+05  100000.000000   \n",
      "mean       13.278073     437.331824  7.468924e+04      18.769787   \n",
      "std         4.390210     244.317648  5.809527e+04       8.539769   \n",
      "min         6.000000      30.420000  4.000000e+03       0.000000   \n",
      "25%        10.150000     261.640000  4.500000e+04      12.320000   \n",
      "50%        12.990000     380.180000  6.400000e+04      18.210000   \n",
      "75%        15.610000     573.320000  9.000000e+04      24.760000   \n",
      "max        26.060000    1408.130000  7.500000e+06      39.990000   \n",
      "\n",
      "         delinq_2yrs  fico_range_low  ...  deferral_term  hardship_amount  \\\n",
      "count  100000.000000   100000.000000  ...       100000.0    100000.000000   \n",
      "mean        0.343920      692.579800  ...            3.0       110.335568   \n",
      "std         0.906525       29.396935  ...            0.0         3.829130   \n",
      "min         0.000000      660.000000  ...            3.0         1.470000   \n",
      "25%         0.000000      670.000000  ...            3.0       110.335568   \n",
      "50%         0.000000      685.000000  ...            3.0       110.335568   \n",
      "75%         0.000000      705.000000  ...            3.0       110.335568   \n",
      "max        22.000000      845.000000  ...            3.0       382.340000   \n",
      "\n",
      "       hardship_length   hardship_dpd  \\\n",
      "count         100000.0  100000.000000   \n",
      "mean               3.0      14.037838   \n",
      "std                0.0       0.414257   \n",
      "min                3.0       0.000000   \n",
      "25%                3.0      14.037838   \n",
      "50%                3.0      14.037838   \n",
      "75%                3.0      14.037838   \n",
      "max                3.0      32.000000   \n",
      "\n",
      "       orig_projected_additional_accrued_interest  \\\n",
      "count                               100000.000000   \n",
      "mean                                   323.495132   \n",
      "std                                     10.399704   \n",
      "min                                      4.410000   \n",
      "25%                                    323.495132   \n",
      "50%                                    323.495132   \n",
      "75%                                    323.495132   \n",
      "max                                   1147.020000   \n",
      "\n",
      "       hardship_payoff_balance_amount  hardship_last_payment_amount  \\\n",
      "count                   100000.000000                 100000.000000   \n",
      "mean                      8046.616541                    186.563135   \n",
      "std                        239.599030                      7.230154   \n",
      "min                        174.150000                      0.040000   \n",
      "25%                       8046.616541                    186.563135   \n",
      "50%                       8046.616541                    186.563135   \n",
      "75%                       8046.616541                    186.563135   \n",
      "max                      21750.750000                    757.420000   \n",
      "\n",
      "       settlement_amount  settlement_percentage  settlement_term  \n",
      "count      100000.000000          100000.000000    100000.000000  \n",
      "mean         4768.376357              47.720519         8.265116  \n",
      "std           420.528448               0.800032         0.938202  \n",
      "min           233.160000               0.550000         0.000000  \n",
      "25%          4768.376357              47.720519         8.265116  \n",
      "50%          4768.376357              47.720519         8.265116  \n",
      "75%          4768.376357              47.720519         8.265116  \n",
      "max         26751.740000             100.000000        36.000000  \n",
      "\n",
      "[8 rows x 115 columns]\n",
      "\n",
      "Nombres de las columnas:\n",
      "Index(['loan_amnt', 'funded_amnt', 'funded_amnt_inv', 'term', 'int_rate',\n",
      "       'installment', 'grade', 'sub_grade', 'emp_title', 'emp_length',\n",
      "       ...\n",
      "       'hardship_payoff_balance_amount', 'hardship_last_payment_amount',\n",
      "       'disbursement_method', 'debt_settlement_flag',\n",
      "       'debt_settlement_flag_date', 'settlement_status', 'settlement_date',\n",
      "       'settlement_amount', 'settlement_percentage', 'settlement_term'],\n",
      "      dtype='object', length=148)\n"
     ]
    }
   ],
   "source": [
    "\n",
    "# Imprimir las primeras 5 filas del DataFrame\n",
    "print(\"Primeras 5 filas del DataFrame:\")\n",
    "print(loans.head())\n",
    "\n",
    "# Imprimir información básica sobre el DataFrame\n",
    "print(\"\\nInformación del DataFrame:\")\n",
    "print(loans.info())\n",
    "\n",
    "# Imprimir un resumen estadístico de las columnas numéricas\n",
    "print(\"\\nResumen estadístico:\")\n",
    "print(loans.describe())\n",
    "\n",
    "# Imprimir los nombres de las columnas\n",
    "print(\"\\nNombres de las columnas:\")\n",
    "print(loans.columns)"
   ]
  },
  {
   "attachments": {},
   "cell_type": "markdown",
   "metadata": {},
   "source": [
    "### Imputacion"
   ]
  },
  {
   "cell_type": "code",
   "execution_count": 48,
   "metadata": {},
   "outputs": [],
   "source": [
    "# Tu codigo aqui\n",
    "import json\n",
    "\n",
    "# Asegúrate de que el DataFrame 'loans' esté cargado correctamente\n",
    "# Por ejemplo: loans = pd.read_csv('tu_archivo.csv')\n",
    "\n",
    "# Diccionario para registrar las estrategias de imputación\n",
    "imputacion_dict = {}\n",
    "\n",
    "for col in loans.columns:\n",
    "    if loans[col].dtype in ['int64', 'float64']:  # Para datos numéricos\n",
    "        if loans[col].isnull().all():\n",
    "            imputacion_dict[col] = {'estrategia': 'todos_nan', 'valor': None}\n",
    "        else:\n",
    "            mean_value = loans[col].mean()\n",
    "            loans[col].fillna(mean_value, inplace=True)\n",
    "            imputacion_dict[col] = {'estrategia': 'mean', 'valor': mean_value}\n",
    "    elif loans[col].dtype == 'object':  # Para datos categóricos\n",
    "        mode_value = loans[col].mode()[0] if not loans[col].mode().empty else 'missing'\n",
    "        loans[col].fillna(mode_value, inplace=True)\n",
    "        imputacion_dict[col] = {'estrategia': 'mode', 'valor': mode_value}\n",
    "    else:\n",
    "        # Para otros tipos de datos\n",
    "        imputacion_dict[col] = {'estrategia': 'no_imputada', 'valor': None}\n",
    "\n",
    "# Guardar el diccionario de imputación en un archivo JSON\n",
    "json_path = 'estrategias.json'\n",
    "with open(json_path, 'w') as json_file:\n",
    "    json.dump(imputacion_dict, json_file, indent=4)\n"
   ]
  },
  {
   "cell_type": "code",
   "execution_count": 49,
   "metadata": {},
   "outputs": [
    {
     "name": "stdout",
     "output_type": "stream",
     "text": [
      "{'loan_amnt': {'estrategia': 'mean', 'valor': 14886.93}, 'funded_amnt': {'estrategia': 'mean', 'valor': 14886.93}, 'funded_amnt_inv': {'estrategia': 'mean', 'valor': 14883.9105}, 'term': {'estrategia': 'no_imputada', 'valor': None}, 'int_rate': {'estrategia': 'mean', 'valor': 13.278073399995797}, 'installment': {'estrategia': 'mean', 'valor': 437.33182440002366}, 'grade': {'estrategia': 'no_imputada', 'valor': None}, 'sub_grade': {'estrategia': 'mode', 'valor': 'C1'}, 'emp_title': {'estrategia': 'mode', 'valor': 'missing'}, 'emp_length': {'estrategia': 'mode', 'valor': '10+ years'}, 'home_ownership': {'estrategia': 'mode', 'valor': 'MORTGAGE'}, 'annual_inc': {'estrategia': 'mean', 'valor': 74689.24258249998}, 'verification_status': {'estrategia': 'mode', 'valor': 'Source Verified'}, 'issue_d': {'estrategia': 'mode', 'valor': 'Oct-2014'}, 'loan_status': {'estrategia': 'mode', 'valor': 'Fully Paid'}, 'pymnt_plan': {'estrategia': 'mode', 'valor': 'n'}, 'desc': {'estrategia': 'mode', 'valor': 'missing'}, 'purpose': {'estrategia': 'mode', 'valor': 'debt_consolidation'}, 'title': {'estrategia': 'mode', 'valor': 'Debt consolidation'}, 'zip_code': {'estrategia': 'mode', 'valor': '750xx'}, 'addr_state': {'estrategia': 'mode', 'valor': 'CA'}, 'dti': {'estrategia': 'mean', 'valor': 18.76978660000006}, 'delinq_2yrs': {'estrategia': 'mean', 'valor': 0.34392}, 'earliest_cr_line': {'estrategia': 'mode', 'valor': 'Aug-2001'}, 'fico_range_low': {'estrategia': 'mean', 'valor': 692.5798}, 'fico_range_high': {'estrategia': 'mean', 'valor': 696.57987}, 'inq_last_6mths': {'estrategia': 'mean', 'valor': 0.62189}, 'mths_since_last_delinq': {'estrategia': 'mean', 'valor': 33.52252568379807}, 'mths_since_last_record': {'estrategia': 'mean', 'valor': 69.39421467852557}, 'open_acc': {'estrategia': 'mean', 'valor': 11.83275}, 'pub_rec': {'estrategia': 'mean', 'valor': 0.21456}, 'revol_bal': {'estrategia': 'mean', 'valor': 17588.06238}, 'revol_util': {'estrategia': 'mean', 'valor': 55.43498459137117}, 'total_acc': {'estrategia': 'mean', 'valor': 26.03486}, 'initial_list_status': {'estrategia': 'mode', 'valor': 'w'}, 'out_prncp': {'estrategia': 'mean', 'valor': 1215.1084605000065}, 'out_prncp_inv': {'estrategia': 'mean', 'valor': 1214.906466700006}, 'total_pymnt': {'estrategia': 'mean', 'valor': 15210.210257400804}, 'total_pymnt_inv': {'estrategia': 'mean', 'valor': 15207.12168470019}, 'total_rec_prncp': {'estrategia': 'mean', 'valor': 11978.875624699958}, 'total_rec_int': {'estrategia': 'mean', 'valor': 3040.957017699986}, 'total_rec_late_fee': {'estrategia': 'mean', 'valor': 1.2300369003639011}, 'recoveries': {'estrategia': 'mean', 'valor': 189.14756099939254}, 'collection_recovery_fee': {'estrategia': 'mean', 'valor': 31.416890794995414}, 'last_pymnt_d': {'estrategia': 'mode', 'valor': 'Dec-2017'}, 'last_pymnt_amnt': {'estrategia': 'mean', 'valor': 4165.111319039904}, 'next_pymnt_d': {'estrategia': 'mode', 'valor': 'missing'}, 'last_credit_pull_d': {'estrategia': 'mode', 'valor': 'Dec-2017'}, 'last_fico_range_high': {'estrategia': 'mean', 'valor': 677.92764}, 'last_fico_range_low': {'estrategia': 'mean', 'valor': 664.18765}, 'collections_12_mths_ex_med': {'estrategia': 'mean', 'valor': 0.01701}, 'mths_since_last_major_derog': {'estrategia': 'mean', 'valor': 43.4512365340627}, 'policy_code': {'estrategia': 'mean', 'valor': 1.0}, 'application_type': {'estrategia': 'mode', 'valor': 'Individual'}, 'annual_inc_joint': {'estrategia': 'todos_nan', 'valor': None}, 'dti_joint': {'estrategia': 'todos_nan', 'valor': None}, 'verification_status_joint': {'estrategia': 'todos_nan', 'valor': None}, 'acc_now_delinq': {'estrategia': 'mean', 'valor': 0.00638}, 'tot_coll_amt': {'estrategia': 'mean', 'valor': 235.46884}, 'tot_cur_bal': {'estrategia': 'mean', 'valor': 140910.91011}, 'open_acc_6m': {'estrategia': 'todos_nan', 'valor': None}, 'open_act_il': {'estrategia': 'todos_nan', 'valor': None}, 'open_il_12m': {'estrategia': 'todos_nan', 'valor': None}, 'open_il_24m': {'estrategia': 'todos_nan', 'valor': None}, 'mths_since_rcnt_il': {'estrategia': 'todos_nan', 'valor': None}, 'total_bal_il': {'estrategia': 'todos_nan', 'valor': None}, 'il_util': {'estrategia': 'todos_nan', 'valor': None}, 'open_rv_12m': {'estrategia': 'todos_nan', 'valor': None}, 'open_rv_24m': {'estrategia': 'todos_nan', 'valor': None}, 'max_bal_bc': {'estrategia': 'todos_nan', 'valor': None}, 'all_util': {'estrategia': 'todos_nan', 'valor': None}, 'total_rev_hi_lim': {'estrategia': 'mean', 'valor': 32526.9722}, 'inq_fi': {'estrategia': 'todos_nan', 'valor': None}, 'total_cu_tl': {'estrategia': 'todos_nan', 'valor': None}, 'inq_last_12m': {'estrategia': 'todos_nan', 'valor': None}, 'acc_open_past_24mths': {'estrategia': 'mean', 'valor': 4.52473}, 'avg_cur_bal': {'estrategia': 'mean', 'valor': 13337.70501}, 'bc_open_to_buy': {'estrategia': 'mean', 'valor': 8956.451808020945}, 'bc_util': {'estrategia': 'mean', 'valor': 64.56002206433192}, 'chargeoff_within_12_mths': {'estrategia': 'mean', 'valor': 0.0104}, 'delinq_amnt': {'estrategia': 'mean', 'valor': 11.5565}, 'mo_sin_old_il_acct': {'estrategia': 'mean', 'valor': 127.73700163928524}, 'mo_sin_old_rev_tl_op': {'estrategia': 'mean', 'valor': 185.82682}, 'mo_sin_rcnt_rev_tl_op': {'estrategia': 'mean', 'valor': 13.13111}, 'mo_sin_rcnt_tl': {'estrategia': 'mean', 'valor': 7.94572}, 'mort_acc': {'estrategia': 'mean', 'valor': 1.78588}, 'mths_since_recent_bc': {'estrategia': 'mean', 'valor': 24.435205303634856}, 'mths_since_recent_bc_dlq': {'estrategia': 'mean', 'valor': 39.633868833899356}, 'mths_since_recent_inq': {'estrategia': 'mean', 'valor': 6.7667716395738235}, 'mths_since_recent_revol_delinq': {'estrategia': 'mean', 'valor': 35.61543138231309}, 'num_accts_ever_120_pd': {'estrategia': 'mean', 'valor': 0.52372}, 'num_actv_bc_tl': {'estrategia': 'mean', 'valor': 3.72897}, 'num_actv_rev_tl': {'estrategia': 'mean', 'valor': 5.83361}, 'num_bc_sats': {'estrategia': 'mean', 'valor': 4.66532}, 'num_bc_tl': {'estrategia': 'mean', 'valor': 8.42365}, 'num_il_tl': {'estrategia': 'mean', 'valor': 8.66296}, 'num_op_rev_tl': {'estrategia': 'mean', 'valor': 8.39263}, 'num_rev_accts': {'estrategia': 'mean', 'valor': 15.28991}, 'num_rev_tl_bal_gt_0': {'estrategia': 'mean', 'valor': 5.81747}, 'num_sats': {'estrategia': 'mean', 'valor': 11.79017}, 'num_tl_120dpd_2m': {'estrategia': 'mean', 'valor': 0.0008159601811431539}, 'num_tl_30dpd': {'estrategia': 'mean', 'valor': 0.00444}, 'num_tl_90g_dpd_24m': {'estrategia': 'mean', 'valor': 0.09143}, 'num_tl_op_past_12m': {'estrategia': 'mean', 'valor': 2.0957}, 'pct_tl_nvr_dlq': {'estrategia': 'mean', 'valor': 94.30069700000529}, 'percent_bc_gt_75': {'estrategia': 'mean', 'valor': 50.694696425500865}, 'pub_rec_bankruptcies': {'estrategia': 'mean', 'valor': 0.12654}, 'tax_liens': {'estrategia': 'mean', 'valor': 0.05618}, 'tot_hi_cred_lim': {'estrategia': 'mean', 'valor': 172385.51452}, 'total_bal_ex_mort': {'estrategia': 'mean', 'valor': 50471.32121}, 'total_bc_limit': {'estrategia': 'mean', 'valor': 21073.77013}, 'total_il_high_credit_limit': {'estrategia': 'mean', 'valor': 41031.31849}, 'revol_bal_joint': {'estrategia': 'todos_nan', 'valor': None}, 'sec_app_fico_range_low': {'estrategia': 'todos_nan', 'valor': None}, 'sec_app_fico_range_high': {'estrategia': 'todos_nan', 'valor': None}, 'sec_app_earliest_cr_line': {'estrategia': 'todos_nan', 'valor': None}, 'sec_app_inq_last_6mths': {'estrategia': 'todos_nan', 'valor': None}, 'sec_app_mort_acc': {'estrategia': 'todos_nan', 'valor': None}, 'sec_app_open_acc': {'estrategia': 'todos_nan', 'valor': None}, 'sec_app_revol_util': {'estrategia': 'todos_nan', 'valor': None}, 'sec_app_open_act_il': {'estrategia': 'todos_nan', 'valor': None}, 'sec_app_num_rev_accts': {'estrategia': 'todos_nan', 'valor': None}, 'sec_app_chargeoff_within_12_mths': {'estrategia': 'todos_nan', 'valor': None}, 'sec_app_collections_12_mths_ex_med': {'estrategia': 'todos_nan', 'valor': None}, 'sec_app_mths_since_last_major_derog': {'estrategia': 'todos_nan', 'valor': None}, 'hardship_flag': {'estrategia': 'mode', 'valor': 'N'}, 'hardship_type': {'estrategia': 'mode', 'valor': 'missing'}, 'hardship_reason': {'estrategia': 'mode', 'valor': 'missing'}, 'hardship_status': {'estrategia': 'mode', 'valor': 'missing'}, 'deferral_term': {'estrategia': 'mean', 'valor': 3.0}, 'hardship_amount': {'estrategia': 'mean', 'valor': 110.3355675675061}, 'hardship_start_date': {'estrategia': 'mode', 'valor': 'missing'}, 'hardship_end_date': {'estrategia': 'mode', 'valor': 'missing'}, 'payment_plan_start_date': {'estrategia': 'mode', 'valor': 'missing'}, 'hardship_length': {'estrategia': 'mean', 'valor': 3.0}, 'hardship_dpd': {'estrategia': 'mean', 'valor': 14.037837837826833}, 'hardship_loan_status': {'estrategia': 'mode', 'valor': 'missing'}, 'orig_projected_additional_accrued_interest': {'estrategia': 'mean', 'valor': 323.49513157849236}, 'hardship_payoff_balance_amount': {'estrategia': 'mean', 'valor': 8046.6165405491565}, 'hardship_last_payment_amount': {'estrategia': 'mean', 'valor': 186.56313513552024}, 'disbursement_method': {'estrategia': 'mode', 'valor': 'Cash'}, 'debt_settlement_flag': {'estrategia': 'mode', 'valor': 'N'}, 'debt_settlement_flag_date': {'estrategia': 'no_imputada', 'valor': None}, 'settlement_status': {'estrategia': 'mode', 'valor': 'missing'}, 'settlement_date': {'estrategia': 'no_imputada', 'valor': None}, 'settlement_amount': {'estrategia': 'mean', 'valor': 4768.376356597617}, 'settlement_percentage': {'estrategia': 'mean', 'valor': 47.720519379791234}, 'settlement_term': {'estrategia': 'mean', 'valor': 8.265116279050531}}\n"
     ]
    }
   ],
   "source": [
    "# TUcodigo aqui\n",
    "\n",
    "# Cargar datos desde un archivo JSON\n",
    "ruta_json = 'estrategias.json'  # Nombre del archivo JSON que se generó previamente\n",
    "\n",
    "with open(ruta_json, 'r') as archivo_json:\n",
    "    datos_cargados = json.load(archivo_json)\n",
    "\n",
    "# Mostrar los datos cargados\n",
    "print(datos_cargados)"
   ]
  },
  {
   "attachments": {},
   "cell_type": "markdown",
   "metadata": {},
   "source": [
    "### Codigo para salvar y cargar JSONs"
   ]
  }
 ],
 "metadata": {
  "kernelspec": {
   "display_name": "Python 3",
   "language": "python",
   "name": "python3"
  },
  "language_info": {
   "codemirror_mode": {
    "name": "ipython",
    "version": 3
   },
   "file_extension": ".py",
   "mimetype": "text/x-python",
   "name": "python",
   "nbconvert_exporter": "python",
   "pygments_lexer": "ipython3",
   "version": "3.9.7"
  },
  "orig_nbformat": 4,
  "vscode": {
   "interpreter": {
    "hash": "e7370f93d1d0cde622a1f8e1c04877d8463912d04d973331ad4851f04de6915a"
   }
  }
 },
 "nbformat": 4,
 "nbformat_minor": 2
}
